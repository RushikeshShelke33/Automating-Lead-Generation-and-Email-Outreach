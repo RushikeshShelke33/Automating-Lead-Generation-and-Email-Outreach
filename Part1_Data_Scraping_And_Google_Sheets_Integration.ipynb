{
 "cells": [
  {
   "cell_type": "code",
   "execution_count": null,
   "metadata": {},
   "outputs": [],
   "source": [
    "\n",
    "import time, requests\n",
    "from bs4 import BeautifulSoup\n",
    "\n",
    "from selenium import webdriver\n",
    "# from webdriver_manager.chrome import ChromeDriverManager\n",
    "from selenium.webdriver.common.by import By\n",
    "from selenium.webdriver.chrome.service import Service\n",
    "from webdriver_manager.chrome import ChromeDriverManager\n",
    "from selenium.webdriver.support.ui import WebDriverWait\n",
    "from selenium.webdriver.support import expected_conditions as EC\n",
    "import re,csv\n",
    "import gspread\n",
    "\n",
    "# Initialize variables to store data\n",
    "\n",
    "name=''\n",
    "address=''\n",
    "phone=''\n",
    "website=''\n",
    "\n",
    "# Path to your ChromeDriver executable. Replace with your own path.\n",
    "# chromedriver_path='<path_to_your_chromedriver>'\n",
    "\n",
    "\n",
    "chromedriver_path=r'C:\\rds\\Python\\chromedriver-win64\\chromedriver-win64\\chromedriver.exe'\n",
    "driver = webdriver.Chrome(executable_path=chromedriver_path)\n",
    "\n",
    "\n",
    "\n"
   ]
  },
  {
   "cell_type": "code",
   "execution_count": null,
   "metadata": {},
   "outputs": [],
   "source": [
    "# Function to Get user input for location and industry\n",
    "\n",
    "def get_url():\n",
    "    # location = \"mumbai\"\n",
    "    # industry = \"TIAA India Private Limited\"\n",
    "    # location = \"nashik\"\n",
    "    # industry = \"TDK India Private Limited\"\n",
    "    location = input(\"Enter Location: \")\n",
    "    industry = input(\"Enter industry: \")\n",
    "\n",
    "    print(\"Entered: = \",location,' Entered Industry: = ',industry)\n",
    "    \n",
    "    # Construct the URL for Google Maps search\n",
    "    url = f\"https://www.google.com/maps/search/{industry}+{location}\"\n",
    "    driver.get(url)"
   ]
  },
  {
   "cell_type": "code",
   "execution_count": null,
   "metadata": {},
   "outputs": [],
   "source": [
    "# Function to extract data from a line based on a given word\n",
    "# Check if a line starts with a specific word and return the rest of the line\n",
    "\n",
    "def line_starts_with_word(line, word):\n",
    "    pattern = re.compile(rf\"^(?i){re.escape(word)}\\s*:\\s*(.*)\")\n",
    "    match = pattern.match(line)\n",
    "    if match:\n",
    "        return match.group(1).strip()  # Extract the rest of the line (excluding the word and colon)\n",
    "    else:\n",
    "        return None"
   ]
  },
  {
   "cell_type": "code",
   "execution_count": null,
   "metadata": {},
   "outputs": [],
   "source": [
    "def get_all_data():\n",
    "    global name, address, phone, website\n",
    "    w1=\"name\"\n",
    "    w2=\"address\"\n",
    "    w3=\"phone\"\n",
    "    w4=\"website\"\n",
    "\n",
    "    # Get data from the webpage\n",
    "\n",
    "    name = driver.find_element(By.CLASS_NAME,'DUwDvf').text\n",
    "    all=driver.find_elements(By.CLASS_NAME,'CsEnBe')\n",
    "\n",
    "    for a in all:\n",
    "        # print(a.get_attribute('aria-label'))\n",
    "        if line_starts_with_word(a.get_attribute('aria-label'),w2):\n",
    "            # address=a.get_attribute('aria-label')\n",
    "            address=line_starts_with_word(a.get_attribute('aria-label'),w2)\n",
    "        elif line_starts_with_word(a.get_attribute('aria-label'),w3):\n",
    "            # phone=a.get_attribute('aria-label')\n",
    "            phone=line_starts_with_word(a.get_attribute('aria-label'),w3).replace(\" \",\"\")\n",
    "    \n",
    "        elif line_starts_with_word(a.get_attribute('aria-label'),w4):\n",
    "            # phone=a.get_attribute('aria-label')\n",
    "            website=line_starts_with_word(a.get_attribute('aria-label'),w4).replace(\" \",\"\")\n",
    "    return address,name, phone, website"
   ]
  },
  {
   "cell_type": "code",
   "execution_count": null,
   "metadata": {},
   "outputs": [],
   "source": [
    "# Function to store data in a CSV file\n",
    "def store_data_in_csv(name, address, website, phone, filename='data.csv'):\n",
    "    # Check if the file exists, if not create it and write the header\n",
    "    columns = ['name', 'address', 'website', 'phone']\n",
    "    try:\n",
    "        with open(filename, 'x', newline='') as csvfile:\n",
    "            writer = csv.DictWriter(csvfile, fieldnames=columns)\n",
    "            writer.writeheader()\n",
    "    except FileExistsError:\n",
    "        pass  # File already exists, no need to write header\n",
    "\n",
    "    # Append the data to a new row\n",
    "    with open(filename, 'a', newline='') as csvfile:\n",
    "        writer = csv.DictWriter(csvfile, fieldnames=columns)\n",
    "        writer.writerow({'name': name, 'address': address, 'website': website, 'phone': phone})\n"
   ]
  },
  {
   "cell_type": "code",
   "execution_count": null,
   "metadata": {},
   "outputs": [],
   "source": [
    "# Function to append data to a Google Sheet\n",
    "\n",
    "def google_sheet():\n",
    "    # Replace 'creds.json' with your own Google Sheets API credentials file.\n",
    "    # gc = gspread.service_account(filename='<path_to_your_credentials_file>')\n",
    "\n",
    "    gc = gspread.service_account(filename='creds.json') # Replace with the actual filename\n",
    "\n",
    "    sh=gc.open(\"<your_google_sheet_name>\").sheet1    # Open the Google Sheet by its name. Replace with your own sheet's name.\n",
    "    sh.append_row([name,address,phone])"
   ]
  },
  {
   "cell_type": "code",
   "execution_count": null,
   "metadata": {},
   "outputs": [],
   "source": [
    "# pune, TIAA India Private Limited\n",
    "# get_url pune, Siemens Digital Industries Software India Pvt Ltd\n",
    "\n",
    "# Call the functions to perform the required actions\n",
    "\n",
    "get_url()\n",
    "get_all_data()\n",
    "store_data_in_csv(name, address, website, phone)\n",
    "google_sheet()\n",
    "print(\"Success\")"
   ]
  },
  {
   "cell_type": "code",
   "execution_count": null,
   "metadata": {},
   "outputs": [],
   "source": [
    "# Some industries names \n",
    "# location ='pune'\n",
    "# industries = ['Exacore IT Solutions Private Limited', 'Globant India Pvt. Ltd', 'Sasken Technologies Limited', 'DevLogic Technologies', 'Neosoft Technologies', 'Cisco Systems Pvt Ltd', 'Bentley Systems', 'Xento Systems', 'Red Hat India Private Limited', 'Capita India Pvt. Ltd', 'Avaya India Pvt. Ltd', 'SYSTEMS PLUS TRANSFORMATIONS LLP', 'eInfochips', 'Techila Global Services', 'Reflexis Systems India Private Limited', 'AppDirect India', 'SAP India', 'Capsilon Software Pvt. Ltd', 'Meganexus Ltd', 'Manipal Technologies Ltd', 'Nesecure Networks Pvt. Ltd', 'SoftwareGen Technologies', 'BNY Mellon International Ops India Ltd', 'Softdel', 'Caresoft Global Private Limited', 'Datafortune Software Solutions Pvt. Ltd', 'Mitz Technologies', 'Isobar', 'Edzeal Technologies']\n"
   ]
  },
  {
   "cell_type": "code",
   "execution_count": null,
   "metadata": {},
   "outputs": [],
   "source": []
  },
  {
   "cell_type": "code",
   "execution_count": null,
   "metadata": {},
   "outputs": [],
   "source": []
  },
  {
   "cell_type": "code",
   "execution_count": null,
   "metadata": {},
   "outputs": [],
   "source": []
  },
  {
   "cell_type": "code",
   "execution_count": null,
   "metadata": {},
   "outputs": [],
   "source": []
  },
  {
   "cell_type": "code",
   "execution_count": null,
   "metadata": {},
   "outputs": [],
   "source": []
  },
  {
   "cell_type": "code",
   "execution_count": null,
   "metadata": {},
   "outputs": [],
   "source": []
  },
  {
   "cell_type": "code",
   "execution_count": null,
   "metadata": {},
   "outputs": [],
   "source": []
  },
  {
   "cell_type": "code",
   "execution_count": null,
   "metadata": {},
   "outputs": [],
   "source": []
  }
 ],
 "metadata": {
  "kernelspec": {
   "display_name": "Python 3",
   "language": "python",
   "name": "python3"
  },
  "language_info": {
   "codemirror_mode": {
    "name": "ipython",
    "version": 3
   },
   "file_extension": ".py",
   "mimetype": "text/x-python",
   "name": "python",
   "nbconvert_exporter": "python",
   "pygments_lexer": "ipython3",
   "version": "3.10.0"
  },
  "orig_nbformat": 4
 },
 "nbformat": 4,
 "nbformat_minor": 2
}
